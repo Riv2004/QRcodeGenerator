{
 "cells": [
  {
   "cell_type": "code",
   "execution_count": 1,
   "metadata": {},
   "outputs": [],
   "source": [
    "import qrcode\n",
    "\n",
    "# UPI details\n",
    "x = input ('Please enter your upi_id : ')\n",
    "# upi_id = \"8016036858@ibl\"  # Replace with your UPI ID\n",
    "payee_name = \"Ritabrta Bhattacharya\"  # Replace with the payee's name\n",
    "amount = input ('Please enter your value : ')  # Optional: set a fixed amount, e.g., \"1000.00\"\n",
    "transaction_note = \"Payment for services\"  # Optional: note for the transaction\n"
   ]
  },
  {
   "cell_type": "code",
   "execution_count": 2,
   "metadata": {},
   "outputs": [
    {
     "name": "stdout",
     "output_type": "stream",
     "text": [
      "UPI QR code generated and saved as 'upi_qr_code.png'\n"
     ]
    }
   ],
   "source": [
    "# UPI link format\n",
    "upi_link = f\"upi://pay?pa={x}&pn={payee_name}&am={amount}&tn={transaction_note}\"\n",
    "\n",
    "# Generate QR code\n",
    "qr = qrcode.QRCode(\n",
    "    version=1,\n",
    "    error_correction=qrcode.constants.ERROR_CORRECT_L,\n",
    "    box_size=10,\n",
    "    border=4,\n",
    ")\n",
    "qr.add_data(upi_link)\n",
    "qr.make(fit=True)\n",
    "\n",
    "# Create an image from the QR Code instance\n",
    "img = qr.make_image(fill_color=\"black\", back_color=\"white\")\n",
    "\n",
    "# Save the image\n",
    "img.save(\"upi_qr_code.png\")\n",
    "\n",
    "print(\"UPI QR code generated and saved as 'upi_qr_code.png'\")"
   ]
  }
 ],
 "metadata": {
  "kernelspec": {
   "display_name": "Python 3",
   "language": "python",
   "name": "python3"
  },
  "language_info": {
   "codemirror_mode": {
    "name": "ipython",
    "version": 3
   },
   "file_extension": ".py",
   "mimetype": "text/x-python",
   "name": "python",
   "nbconvert_exporter": "python",
   "pygments_lexer": "ipython3",
   "version": "3.11.4"
  }
 },
 "nbformat": 4,
 "nbformat_minor": 2
}
